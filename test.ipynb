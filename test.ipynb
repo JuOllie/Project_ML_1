{
 "metadata": {
  "language_info": {
   "codemirror_mode": {
    "name": "ipython",
    "version": 3
   },
   "file_extension": ".py",
   "mimetype": "text/x-python",
   "name": "python",
   "nbconvert_exporter": "python",
   "pygments_lexer": "ipython3",
   "version": "3.7.9-final"
  },
  "orig_nbformat": 2,
  "kernelspec": {
   "name": "python3",
   "display_name": "Python 3",
   "language": "python"
  }
 },
 "nbformat": 4,
 "nbformat_minor": 2,
 "cells": [
  {
   "cell_type": "code",
   "execution_count": 3,
   "metadata": {},
   "outputs": [],
   "source": [
    "#Import libraries\n",
    "%matplotlib inline\n",
    "import numpy as np\n",
    "import scipy as sp\n",
    "import matplotlib as mpl\n",
    "import matplotlib.cm as cm\n",
    "import matplotlib.pyplot as plt\n",
    "import pandas as pd\n",
    "import time\n",
    "import json\n",
    "pd.set_option('display.width', 1000)\n",
    "pd.set_option('display.max_columns', 100)\n",
    "pd.set_option('display.notebook_repr_html', True)\n",
    "import seaborn as sns\n",
    "sns.set_style(\"whitegrid\")\n",
    "sns.set_context(\"poster\")"
   ]
  },
  {
   "cell_type": "code",
   "execution_count": 57,
   "metadata": {},
   "outputs": [],
   "source": [
    "# Taking data into df\n",
    "\n",
    "reviews = []\n",
    "with open('yelp_dataset/yelp_academic_dataset_review.json', 'rb') as f:\n",
    "    for i, line in enumerate(f):\n",
    "        reviews.append(json.loads(line))\n",
    "\n",
    "reviews_df = pd.DataFrame(reviews)\n"
   ]
  },
  {
   "cell_type": "code",
   "execution_count": 58,
   "metadata": {},
   "outputs": [
    {
     "output_type": "execute_result",
     "data": {
      "text/plain": [
       "                review_id                 user_id             business_id  stars  useful  funny  cool                                               text                 date\n",
       "0  xQY8N_XvtGbearJ5X4QryQ  OwjRMXRC0KyPrIlcjaXeFQ  -MhfebM0QIsKt87iDN-FNw    2.0       5      0     0  As someone who has worked with many museums, I...  2015-04-15 05:21:16\n",
       "1  UmFMZ8PyXZTY2QcwzsfQYA  nIJD_7ZXHq-FX8byPMOkMQ  lbrU8StCq3yDfr-QMnGrmQ    1.0       1      1     0  I am actually horrified this place is still in...  2013-12-07 03:16:52\n",
       "2  LG2ZaYiOgpr2DK_90pYjNw  V34qejxNsCbcgD8C0HVk-Q  HQl28KMwrEKHqhFrrDqVNQ    5.0       1      0     0  I love Deagan's. I do. I really do. The atmosp...  2015-12-05 03:18:11\n",
       "3  i6g_oA9Yf9Y31qt0wibXpw  ofKDkJKXSKZXu5xJNGiiBQ  5JxlZaqCnk1MnbgRirs40Q    1.0       0      0     0  Dismal, lukewarm, defrosted-tasting \"TexMex\" g...  2011-05-27 05:30:52\n",
       "4  6TdNDKywdbjoTkizeMce8A  UgMW8bLE0QMJDCkQ1Ax5Mg  IS4cv902ykd8wj1TR0N3-A    4.0       0      0     0  Oh happy day, finally have a Canes near my cas...  2017-01-14 21:56:57"
      ],
      "text/html": "<div>\n<style scoped>\n    .dataframe tbody tr th:only-of-type {\n        vertical-align: middle;\n    }\n\n    .dataframe tbody tr th {\n        vertical-align: top;\n    }\n\n    .dataframe thead th {\n        text-align: right;\n    }\n</style>\n<table border=\"1\" class=\"dataframe\">\n  <thead>\n    <tr style=\"text-align: right;\">\n      <th></th>\n      <th>review_id</th>\n      <th>user_id</th>\n      <th>business_id</th>\n      <th>stars</th>\n      <th>useful</th>\n      <th>funny</th>\n      <th>cool</th>\n      <th>text</th>\n      <th>date</th>\n    </tr>\n  </thead>\n  <tbody>\n    <tr>\n      <th>0</th>\n      <td>xQY8N_XvtGbearJ5X4QryQ</td>\n      <td>OwjRMXRC0KyPrIlcjaXeFQ</td>\n      <td>-MhfebM0QIsKt87iDN-FNw</td>\n      <td>2.0</td>\n      <td>5</td>\n      <td>0</td>\n      <td>0</td>\n      <td>As someone who has worked with many museums, I...</td>\n      <td>2015-04-15 05:21:16</td>\n    </tr>\n    <tr>\n      <th>1</th>\n      <td>UmFMZ8PyXZTY2QcwzsfQYA</td>\n      <td>nIJD_7ZXHq-FX8byPMOkMQ</td>\n      <td>lbrU8StCq3yDfr-QMnGrmQ</td>\n      <td>1.0</td>\n      <td>1</td>\n      <td>1</td>\n      <td>0</td>\n      <td>I am actually horrified this place is still in...</td>\n      <td>2013-12-07 03:16:52</td>\n    </tr>\n    <tr>\n      <th>2</th>\n      <td>LG2ZaYiOgpr2DK_90pYjNw</td>\n      <td>V34qejxNsCbcgD8C0HVk-Q</td>\n      <td>HQl28KMwrEKHqhFrrDqVNQ</td>\n      <td>5.0</td>\n      <td>1</td>\n      <td>0</td>\n      <td>0</td>\n      <td>I love Deagan's. I do. I really do. The atmosp...</td>\n      <td>2015-12-05 03:18:11</td>\n    </tr>\n    <tr>\n      <th>3</th>\n      <td>i6g_oA9Yf9Y31qt0wibXpw</td>\n      <td>ofKDkJKXSKZXu5xJNGiiBQ</td>\n      <td>5JxlZaqCnk1MnbgRirs40Q</td>\n      <td>1.0</td>\n      <td>0</td>\n      <td>0</td>\n      <td>0</td>\n      <td>Dismal, lukewarm, defrosted-tasting \"TexMex\" g...</td>\n      <td>2011-05-27 05:30:52</td>\n    </tr>\n    <tr>\n      <th>4</th>\n      <td>6TdNDKywdbjoTkizeMce8A</td>\n      <td>UgMW8bLE0QMJDCkQ1Ax5Mg</td>\n      <td>IS4cv902ykd8wj1TR0N3-A</td>\n      <td>4.0</td>\n      <td>0</td>\n      <td>0</td>\n      <td>0</td>\n      <td>Oh happy day, finally have a Canes near my cas...</td>\n      <td>2017-01-14 21:56:57</td>\n    </tr>\n  </tbody>\n</table>\n</div>"
     },
     "metadata": {},
     "execution_count": 58
    }
   ],
   "source": [
    "\n",
    "reviews_df.head()\n"
   ]
  },
  {
   "cell_type": "code",
   "execution_count": 60,
   "metadata": {},
   "outputs": [
    {
     "output_type": "stream",
     "name": "stdout",
     "text": [
      "Reviews : (8021122, 9)\n"
     ]
    }
   ],
   "source": [
    "print(\"Reviews :\",reviews_df.shape)"
   ]
  },
  {
   "cell_type": "code",
   "execution_count": 47,
   "metadata": {},
   "outputs": [],
   "source": [
    "business = []\n",
    "with open('yelp_dataset/yelp_academic_dataset_business.json', 'rb') as f:\n",
    "    for i, line in enumerate(f):\n",
    "        business.append(json.loads(line))\n",
    "\n",
    "business_df = pd.DataFrame(business)\n"
   ]
  },
  {
   "cell_type": "code",
   "execution_count": 49,
   "metadata": {},
   "outputs": [
    {
     "output_type": "execute_result",
     "data": {
      "text/plain": [
       "(209393, 14)"
      ]
     },
     "metadata": {},
     "execution_count": 49
    }
   ],
   "source": [
    "business_df.shape"
   ]
  },
  {
   "cell_type": "code",
   "execution_count": 50,
   "metadata": {},
   "outputs": [],
   "source": [
    "restaurants = []\n",
    "for i in range(business_df.shape[0]):\n",
    "    \n",
    "    cats = business_df.iloc[i,]['categories']\n",
    "    \n",
    "    if cats:\n",
    "        if 'Restaurants' in cats.split(\",\"):\n",
    "\n",
    "            restaurants.append(business_df.iloc[i,])\n",
    "\n",
    "restaurants_df = pd.DataFrame(restaurants)"
   ]
  },
  {
   "cell_type": "code",
   "execution_count": 51,
   "metadata": {},
   "outputs": [
    {
     "output_type": "execute_result",
     "data": {
      "text/plain": [
       "               business_id                             name                           address       city state postal_code   latitude  longitude  stars  review_count  is_open                                         attributes                              categories                                              hours\n",
       "24  eBEfgOPG7pvFhb2wcG9I7w                  Philthy Phillys  15480 Bayview Avenue, unit D0110     Aurora    ON     L4G 7J1  44.010962 -79.448677    4.5             4        1  {'RestaurantsTableService': 'False', 'Restaura...  Restaurants, Cheesesteaks, Poutineries  {'Monday': '11:0-22:0', 'Tuesday': '11:0-22:0'...\n",
       "38  rVBPQdeayMYht4Uv_FOLHg           Gourmet Burger Company                843 Kipling Avenue    Toronto    ON     M8Z 5G9  43.633291 -79.531768    3.0            13        0  {'RestaurantsPriceRange2': '2', 'RestaurantsAt...              Restaurants, Burgers, Food                                               None\n",
       "41  98hyK2QEUeI8v2y0AghfZA  Pho Lee's Vietnamese Restaurant           1541 E 38th St, Ste 101  Cleveland    OH       44114  41.512155 -81.663332    4.5            23        1  {'BusinessParking': 'None', 'Ambience': '{'tou...           Restaurants, Vietnamese, Soup  {'Monday': '11:0-20:0', 'Wednesday': '11:0-20:...\n",
       "43  LoRef3ChgZKbxUio-sHgQg                             Amir             5252 Rue Jean Talon O   Montréal    QC     H4P 2A7  45.494870 -73.651904    3.0            18        1  {'RestaurantsAttire': 'u'casual'', 'Restaurant...   Restaurants, Lebanese, Middle Eastern                                               None\n",
       "49  tLpkSwdtqqoXwU0JAGnApw                          Wendy's              4602 Northfield Road  Cleveland    OH       44128  41.434614 -81.527026    3.5             7        1  {'RestaurantsDelivery': 'False', 'BusinessAcce...         Restaurants, Fast Food, Burgers  {'Monday': '10:0-3:0', 'Tuesday': '10:0-3:0', ..."
      ],
      "text/html": "<div>\n<style scoped>\n    .dataframe tbody tr th:only-of-type {\n        vertical-align: middle;\n    }\n\n    .dataframe tbody tr th {\n        vertical-align: top;\n    }\n\n    .dataframe thead th {\n        text-align: right;\n    }\n</style>\n<table border=\"1\" class=\"dataframe\">\n  <thead>\n    <tr style=\"text-align: right;\">\n      <th></th>\n      <th>business_id</th>\n      <th>name</th>\n      <th>address</th>\n      <th>city</th>\n      <th>state</th>\n      <th>postal_code</th>\n      <th>latitude</th>\n      <th>longitude</th>\n      <th>stars</th>\n      <th>review_count</th>\n      <th>is_open</th>\n      <th>attributes</th>\n      <th>categories</th>\n      <th>hours</th>\n    </tr>\n  </thead>\n  <tbody>\n    <tr>\n      <th>24</th>\n      <td>eBEfgOPG7pvFhb2wcG9I7w</td>\n      <td>Philthy Phillys</td>\n      <td>15480 Bayview Avenue, unit D0110</td>\n      <td>Aurora</td>\n      <td>ON</td>\n      <td>L4G 7J1</td>\n      <td>44.010962</td>\n      <td>-79.448677</td>\n      <td>4.5</td>\n      <td>4</td>\n      <td>1</td>\n      <td>{'RestaurantsTableService': 'False', 'Restaura...</td>\n      <td>Restaurants, Cheesesteaks, Poutineries</td>\n      <td>{'Monday': '11:0-22:0', 'Tuesday': '11:0-22:0'...</td>\n    </tr>\n    <tr>\n      <th>38</th>\n      <td>rVBPQdeayMYht4Uv_FOLHg</td>\n      <td>Gourmet Burger Company</td>\n      <td>843 Kipling Avenue</td>\n      <td>Toronto</td>\n      <td>ON</td>\n      <td>M8Z 5G9</td>\n      <td>43.633291</td>\n      <td>-79.531768</td>\n      <td>3.0</td>\n      <td>13</td>\n      <td>0</td>\n      <td>{'RestaurantsPriceRange2': '2', 'RestaurantsAt...</td>\n      <td>Restaurants, Burgers, Food</td>\n      <td>None</td>\n    </tr>\n    <tr>\n      <th>41</th>\n      <td>98hyK2QEUeI8v2y0AghfZA</td>\n      <td>Pho Lee's Vietnamese Restaurant</td>\n      <td>1541 E 38th St, Ste 101</td>\n      <td>Cleveland</td>\n      <td>OH</td>\n      <td>44114</td>\n      <td>41.512155</td>\n      <td>-81.663332</td>\n      <td>4.5</td>\n      <td>23</td>\n      <td>1</td>\n      <td>{'BusinessParking': 'None', 'Ambience': '{'tou...</td>\n      <td>Restaurants, Vietnamese, Soup</td>\n      <td>{'Monday': '11:0-20:0', 'Wednesday': '11:0-20:...</td>\n    </tr>\n    <tr>\n      <th>43</th>\n      <td>LoRef3ChgZKbxUio-sHgQg</td>\n      <td>Amir</td>\n      <td>5252 Rue Jean Talon O</td>\n      <td>Montréal</td>\n      <td>QC</td>\n      <td>H4P 2A7</td>\n      <td>45.494870</td>\n      <td>-73.651904</td>\n      <td>3.0</td>\n      <td>18</td>\n      <td>1</td>\n      <td>{'RestaurantsAttire': 'u'casual'', 'Restaurant...</td>\n      <td>Restaurants, Lebanese, Middle Eastern</td>\n      <td>None</td>\n    </tr>\n    <tr>\n      <th>49</th>\n      <td>tLpkSwdtqqoXwU0JAGnApw</td>\n      <td>Wendy's</td>\n      <td>4602 Northfield Road</td>\n      <td>Cleveland</td>\n      <td>OH</td>\n      <td>44128</td>\n      <td>41.434614</td>\n      <td>-81.527026</td>\n      <td>3.5</td>\n      <td>7</td>\n      <td>1</td>\n      <td>{'RestaurantsDelivery': 'False', 'BusinessAcce...</td>\n      <td>Restaurants, Fast Food, Burgers</td>\n      <td>{'Monday': '10:0-3:0', 'Tuesday': '10:0-3:0', ...</td>\n    </tr>\n  </tbody>\n</table>\n</div>"
     },
     "metadata": {},
     "execution_count": 51
    }
   ],
   "source": [
    "restaurants_df.head()"
   ]
  },
  {
   "cell_type": "code",
   "execution_count": 69,
   "metadata": {},
   "outputs": [
    {
     "output_type": "execute_result",
     "data": {
      "text/plain": [
       "business_id      object\n",
       "name             object\n",
       "address          object\n",
       "city             object\n",
       "state            object\n",
       "postal_code      object\n",
       "latitude        float64\n",
       "longitude       float64\n",
       "stars           float64\n",
       "review_count      int64\n",
       "is_open           int64\n",
       "attributes       object\n",
       "categories       object\n",
       "hours            object\n",
       "dtype: object"
      ]
     },
     "metadata": {},
     "execution_count": 69
    }
   ],
   "source": [
    "restaurants_df.dtypes"
   ]
  },
  {
   "cell_type": "code",
   "execution_count": 92,
   "metadata": {},
   "outputs": [],
   "source": [
    "restaurants_df.to_pickle('./restaurants_df')\n",
    "del restaurants_df"
   ]
  },
  {
   "cell_type": "code",
   "execution_count": 95,
   "metadata": {},
   "outputs": [
    {
     "output_type": "execute_result",
     "data": {
      "text/plain": [
       "review_id       object\n",
       "user_id         object\n",
       "business_id     object\n",
       "stars          float64\n",
       "useful           int64\n",
       "funny            int64\n",
       "cool             int64\n",
       "text            object\n",
       "date            object\n",
       "dtype: object"
      ]
     },
     "metadata": {},
     "execution_count": 95
    }
   ],
   "source": [
    "reviews_df.dtypes"
   ]
  },
  {
   "cell_type": "code",
   "execution_count": 79,
   "metadata": {},
   "outputs": [],
   "source": [
    "combo_df = reviews_df.merge(restaurants_df,how=\"left\",on=\"business_id\")"
   ]
  },
  {
   "cell_type": "code",
   "execution_count": 80,
   "metadata": {},
   "outputs": [
    {
     "output_type": "execute_result",
     "data": {
      "text/plain": [
       "                review_id                 user_id             business_id  stars_x  useful  funny  cool                                               text                 date                     name                                            address       city state postal_code   latitude   longitude  stars_y  review_count  is_open                                         attributes                                         categories                                              hours\n",
       "0  xQY8N_XvtGbearJ5X4QryQ  OwjRMXRC0KyPrIlcjaXeFQ  -MhfebM0QIsKt87iDN-FNw      2.0       5      0     0  As someone who has worked with many museums, I...  2015-04-15 05:21:16                      NaN                                                NaN        NaN   NaN         NaN        NaN         NaN      NaN           NaN      NaN                                                NaN                                                NaN                                                NaN\n",
       "1  UmFMZ8PyXZTY2QcwzsfQYA  nIJD_7ZXHq-FX8byPMOkMQ  lbrU8StCq3yDfr-QMnGrmQ      1.0       1      1     0  I am actually horrified this place is still in...  2013-12-07 03:16:52                      NaN                                                NaN        NaN   NaN         NaN        NaN         NaN      NaN           NaN      NaN                                                NaN                                                NaN                                                NaN\n",
       "2  LG2ZaYiOgpr2DK_90pYjNw  V34qejxNsCbcgD8C0HVk-Q  HQl28KMwrEKHqhFrrDqVNQ      5.0       1      0     0  I love Deagan's. I do. I really do. The atmosp...  2015-12-05 03:18:11   Deagan's Kitchen & Bar                                  14810 Detroit Ave   Lakewood    OH       44107  41.485192  -81.800145      4.0         417.0      1.0  {'BusinessAcceptsCreditCards': 'True', 'Outdoo...  Restaurants, Gastropubs, Nightlife, American (...  {'Tuesday': '11:0-22:0', 'Wednesday': '11:0-22...\n",
       "3  i6g_oA9Yf9Y31qt0wibXpw  ofKDkJKXSKZXu5xJNGiiBQ  5JxlZaqCnk1MnbgRirs40Q      1.0       0      0     0  Dismal, lukewarm, defrosted-tasting \"TexMex\" g...  2011-05-27 05:30:52  Cabo Mexican Restaurant  Red Rock Casino Resort & Spa, 11014 W Charlest...  Las Vegas    NV       89135  36.118343 -115.338821      3.5          56.0      0.0  {'RestaurantsAttire': 'u'casual'', 'Restaurant...                               Restaurants, Mexican  {'Monday': '16:0-21:0', 'Tuesday': '16:0-21:0'...\n",
       "4  6TdNDKywdbjoTkizeMce8A  UgMW8bLE0QMJDCkQ1Ax5Mg  IS4cv902ykd8wj1TR0N3-A      4.0       0      0     0  Oh happy day, finally have a Canes near my cas...  2017-01-14 21:56:57                      NaN                                                NaN        NaN   NaN         NaN        NaN         NaN      NaN           NaN      NaN                                                NaN                                                NaN                                                NaN"
      ],
      "text/html": "<div>\n<style scoped>\n    .dataframe tbody tr th:only-of-type {\n        vertical-align: middle;\n    }\n\n    .dataframe tbody tr th {\n        vertical-align: top;\n    }\n\n    .dataframe thead th {\n        text-align: right;\n    }\n</style>\n<table border=\"1\" class=\"dataframe\">\n  <thead>\n    <tr style=\"text-align: right;\">\n      <th></th>\n      <th>review_id</th>\n      <th>user_id</th>\n      <th>business_id</th>\n      <th>stars_x</th>\n      <th>useful</th>\n      <th>funny</th>\n      <th>cool</th>\n      <th>text</th>\n      <th>date</th>\n      <th>name</th>\n      <th>address</th>\n      <th>city</th>\n      <th>state</th>\n      <th>postal_code</th>\n      <th>latitude</th>\n      <th>longitude</th>\n      <th>stars_y</th>\n      <th>review_count</th>\n      <th>is_open</th>\n      <th>attributes</th>\n      <th>categories</th>\n      <th>hours</th>\n    </tr>\n  </thead>\n  <tbody>\n    <tr>\n      <th>0</th>\n      <td>xQY8N_XvtGbearJ5X4QryQ</td>\n      <td>OwjRMXRC0KyPrIlcjaXeFQ</td>\n      <td>-MhfebM0QIsKt87iDN-FNw</td>\n      <td>2.0</td>\n      <td>5</td>\n      <td>0</td>\n      <td>0</td>\n      <td>As someone who has worked with many museums, I...</td>\n      <td>2015-04-15 05:21:16</td>\n      <td>NaN</td>\n      <td>NaN</td>\n      <td>NaN</td>\n      <td>NaN</td>\n      <td>NaN</td>\n      <td>NaN</td>\n      <td>NaN</td>\n      <td>NaN</td>\n      <td>NaN</td>\n      <td>NaN</td>\n      <td>NaN</td>\n      <td>NaN</td>\n      <td>NaN</td>\n    </tr>\n    <tr>\n      <th>1</th>\n      <td>UmFMZ8PyXZTY2QcwzsfQYA</td>\n      <td>nIJD_7ZXHq-FX8byPMOkMQ</td>\n      <td>lbrU8StCq3yDfr-QMnGrmQ</td>\n      <td>1.0</td>\n      <td>1</td>\n      <td>1</td>\n      <td>0</td>\n      <td>I am actually horrified this place is still in...</td>\n      <td>2013-12-07 03:16:52</td>\n      <td>NaN</td>\n      <td>NaN</td>\n      <td>NaN</td>\n      <td>NaN</td>\n      <td>NaN</td>\n      <td>NaN</td>\n      <td>NaN</td>\n      <td>NaN</td>\n      <td>NaN</td>\n      <td>NaN</td>\n      <td>NaN</td>\n      <td>NaN</td>\n      <td>NaN</td>\n    </tr>\n    <tr>\n      <th>2</th>\n      <td>LG2ZaYiOgpr2DK_90pYjNw</td>\n      <td>V34qejxNsCbcgD8C0HVk-Q</td>\n      <td>HQl28KMwrEKHqhFrrDqVNQ</td>\n      <td>5.0</td>\n      <td>1</td>\n      <td>0</td>\n      <td>0</td>\n      <td>I love Deagan's. I do. I really do. The atmosp...</td>\n      <td>2015-12-05 03:18:11</td>\n      <td>Deagan's Kitchen &amp; Bar</td>\n      <td>14810 Detroit Ave</td>\n      <td>Lakewood</td>\n      <td>OH</td>\n      <td>44107</td>\n      <td>41.485192</td>\n      <td>-81.800145</td>\n      <td>4.0</td>\n      <td>417.0</td>\n      <td>1.0</td>\n      <td>{'BusinessAcceptsCreditCards': 'True', 'Outdoo...</td>\n      <td>Restaurants, Gastropubs, Nightlife, American (...</td>\n      <td>{'Tuesday': '11:0-22:0', 'Wednesday': '11:0-22...</td>\n    </tr>\n    <tr>\n      <th>3</th>\n      <td>i6g_oA9Yf9Y31qt0wibXpw</td>\n      <td>ofKDkJKXSKZXu5xJNGiiBQ</td>\n      <td>5JxlZaqCnk1MnbgRirs40Q</td>\n      <td>1.0</td>\n      <td>0</td>\n      <td>0</td>\n      <td>0</td>\n      <td>Dismal, lukewarm, defrosted-tasting \"TexMex\" g...</td>\n      <td>2011-05-27 05:30:52</td>\n      <td>Cabo Mexican Restaurant</td>\n      <td>Red Rock Casino Resort &amp; Spa, 11014 W Charlest...</td>\n      <td>Las Vegas</td>\n      <td>NV</td>\n      <td>89135</td>\n      <td>36.118343</td>\n      <td>-115.338821</td>\n      <td>3.5</td>\n      <td>56.0</td>\n      <td>0.0</td>\n      <td>{'RestaurantsAttire': 'u'casual'', 'Restaurant...</td>\n      <td>Restaurants, Mexican</td>\n      <td>{'Monday': '16:0-21:0', 'Tuesday': '16:0-21:0'...</td>\n    </tr>\n    <tr>\n      <th>4</th>\n      <td>6TdNDKywdbjoTkizeMce8A</td>\n      <td>UgMW8bLE0QMJDCkQ1Ax5Mg</td>\n      <td>IS4cv902ykd8wj1TR0N3-A</td>\n      <td>4.0</td>\n      <td>0</td>\n      <td>0</td>\n      <td>0</td>\n      <td>Oh happy day, finally have a Canes near my cas...</td>\n      <td>2017-01-14 21:56:57</td>\n      <td>NaN</td>\n      <td>NaN</td>\n      <td>NaN</td>\n      <td>NaN</td>\n      <td>NaN</td>\n      <td>NaN</td>\n      <td>NaN</td>\n      <td>NaN</td>\n      <td>NaN</td>\n      <td>NaN</td>\n      <td>NaN</td>\n      <td>NaN</td>\n      <td>NaN</td>\n    </tr>\n  </tbody>\n</table>\n</div>"
     },
     "metadata": {},
     "execution_count": 80
    }
   ],
   "source": [
    "combo_df.head()"
   ]
  },
  {
   "cell_type": "code",
   "execution_count": 83,
   "metadata": {},
   "outputs": [],
   "source": [
    "restaurant_reviews_df = combo_df.dropna(axis=0)"
   ]
  },
  {
   "cell_type": "code",
   "execution_count": 85,
   "metadata": {},
   "outputs": [
    {
     "output_type": "execute_result",
     "data": {
      "text/plain": [
       "                review_id                 user_id             business_id  stars_x  useful  funny  cool                                               text                 date                     name                                            address        city state postal_code   latitude   longitude  stars_y  review_count  is_open                                         attributes                                         categories                                              hours\n",
       "2  LG2ZaYiOgpr2DK_90pYjNw  V34qejxNsCbcgD8C0HVk-Q  HQl28KMwrEKHqhFrrDqVNQ      5.0       1      0     0  I love Deagan's. I do. I really do. The atmosp...  2015-12-05 03:18:11   Deagan's Kitchen & Bar                                  14810 Detroit Ave    Lakewood    OH       44107  41.485192  -81.800145      4.0         417.0      1.0  {'BusinessAcceptsCreditCards': 'True', 'Outdoo...  Restaurants, Gastropubs, Nightlife, American (...  {'Tuesday': '11:0-22:0', 'Wednesday': '11:0-22...\n",
       "3  i6g_oA9Yf9Y31qt0wibXpw  ofKDkJKXSKZXu5xJNGiiBQ  5JxlZaqCnk1MnbgRirs40Q      1.0       0      0     0  Dismal, lukewarm, defrosted-tasting \"TexMex\" g...  2011-05-27 05:30:52  Cabo Mexican Restaurant  Red Rock Casino Resort & Spa, 11014 W Charlest...   Las Vegas    NV       89135  36.118343 -115.338821      3.5          56.0      0.0  {'RestaurantsAttire': 'u'casual'', 'Restaurant...                               Restaurants, Mexican  {'Monday': '16:0-21:0', 'Tuesday': '16:0-21:0'...\n",
       "5  L2O_INwlrRuoX05KSjc4eg  5vD2kmE25YBrbayKhykNxQ  nlxHRv1zXGT0c0K51q3jDg      5.0       2      0     0  This is definitely my favorite fast food sub s...  2013-05-07 07:25:25           Firehouse Subs                    510 Marks St, Unit B-1, Ste 110   Henderson    NV       89014  36.059969 -115.036032      3.0          93.0      1.0  {'Ambience': '{'romantic': False, 'intimate': ...          Restaurants, Delis, Sandwiches, Fast Food  {'Monday': '10:30-21:0', 'Tuesday': '10:30-21:...\n",
       "6  ZayJ1zWyWgY9S_TRLT_y9Q  aq_ZxGHiri48TUXJlpRkCQ  Pthe4qk5xh4n-ef-9bvMSg      5.0       1      0     0  Really good place with simple decor, amazing f...  2015-11-05 23:11:05           Chon Thai Food                     2330 N Alma School Rd, Ste 116    Chandler    AZ       85224  33.339962 -111.859727      4.5         555.0      1.0  {'RestaurantsPriceRange2': '2', 'RestaurantsTa...                                  Restaurants, Thai  {'Monday': '0:0-0:0', 'Tuesday': '17:0-21:0', ...\n",
       "8  JA-xnyHytKiOIHl_ztnK9Q  P6apihD4ASf1vpPxHODxAQ  e_BiI4ej1CW1F0EyVLr-FQ      5.0       0      0     0  Most delicious authentic Italian I've had in t...  2015-02-16 06:48:47                 Casa Mia                                   11485 N 136th St  Scottsdale    AZ       85259  33.590695 -111.786547      4.5          85.0      1.0  {'RestaurantsGoodForGroups': 'True', 'Restaura...                               Restaurants, Italian  {'Tuesday': '17:0-21:30', 'Wednesday': '17:0-2..."
      ],
      "text/html": "<div>\n<style scoped>\n    .dataframe tbody tr th:only-of-type {\n        vertical-align: middle;\n    }\n\n    .dataframe tbody tr th {\n        vertical-align: top;\n    }\n\n    .dataframe thead th {\n        text-align: right;\n    }\n</style>\n<table border=\"1\" class=\"dataframe\">\n  <thead>\n    <tr style=\"text-align: right;\">\n      <th></th>\n      <th>review_id</th>\n      <th>user_id</th>\n      <th>business_id</th>\n      <th>stars_x</th>\n      <th>useful</th>\n      <th>funny</th>\n      <th>cool</th>\n      <th>text</th>\n      <th>date</th>\n      <th>name</th>\n      <th>address</th>\n      <th>city</th>\n      <th>state</th>\n      <th>postal_code</th>\n      <th>latitude</th>\n      <th>longitude</th>\n      <th>stars_y</th>\n      <th>review_count</th>\n      <th>is_open</th>\n      <th>attributes</th>\n      <th>categories</th>\n      <th>hours</th>\n    </tr>\n  </thead>\n  <tbody>\n    <tr>\n      <th>2</th>\n      <td>LG2ZaYiOgpr2DK_90pYjNw</td>\n      <td>V34qejxNsCbcgD8C0HVk-Q</td>\n      <td>HQl28KMwrEKHqhFrrDqVNQ</td>\n      <td>5.0</td>\n      <td>1</td>\n      <td>0</td>\n      <td>0</td>\n      <td>I love Deagan's. I do. I really do. The atmosp...</td>\n      <td>2015-12-05 03:18:11</td>\n      <td>Deagan's Kitchen &amp; Bar</td>\n      <td>14810 Detroit Ave</td>\n      <td>Lakewood</td>\n      <td>OH</td>\n      <td>44107</td>\n      <td>41.485192</td>\n      <td>-81.800145</td>\n      <td>4.0</td>\n      <td>417.0</td>\n      <td>1.0</td>\n      <td>{'BusinessAcceptsCreditCards': 'True', 'Outdoo...</td>\n      <td>Restaurants, Gastropubs, Nightlife, American (...</td>\n      <td>{'Tuesday': '11:0-22:0', 'Wednesday': '11:0-22...</td>\n    </tr>\n    <tr>\n      <th>3</th>\n      <td>i6g_oA9Yf9Y31qt0wibXpw</td>\n      <td>ofKDkJKXSKZXu5xJNGiiBQ</td>\n      <td>5JxlZaqCnk1MnbgRirs40Q</td>\n      <td>1.0</td>\n      <td>0</td>\n      <td>0</td>\n      <td>0</td>\n      <td>Dismal, lukewarm, defrosted-tasting \"TexMex\" g...</td>\n      <td>2011-05-27 05:30:52</td>\n      <td>Cabo Mexican Restaurant</td>\n      <td>Red Rock Casino Resort &amp; Spa, 11014 W Charlest...</td>\n      <td>Las Vegas</td>\n      <td>NV</td>\n      <td>89135</td>\n      <td>36.118343</td>\n      <td>-115.338821</td>\n      <td>3.5</td>\n      <td>56.0</td>\n      <td>0.0</td>\n      <td>{'RestaurantsAttire': 'u'casual'', 'Restaurant...</td>\n      <td>Restaurants, Mexican</td>\n      <td>{'Monday': '16:0-21:0', 'Tuesday': '16:0-21:0'...</td>\n    </tr>\n    <tr>\n      <th>5</th>\n      <td>L2O_INwlrRuoX05KSjc4eg</td>\n      <td>5vD2kmE25YBrbayKhykNxQ</td>\n      <td>nlxHRv1zXGT0c0K51q3jDg</td>\n      <td>5.0</td>\n      <td>2</td>\n      <td>0</td>\n      <td>0</td>\n      <td>This is definitely my favorite fast food sub s...</td>\n      <td>2013-05-07 07:25:25</td>\n      <td>Firehouse Subs</td>\n      <td>510 Marks St, Unit B-1, Ste 110</td>\n      <td>Henderson</td>\n      <td>NV</td>\n      <td>89014</td>\n      <td>36.059969</td>\n      <td>-115.036032</td>\n      <td>3.0</td>\n      <td>93.0</td>\n      <td>1.0</td>\n      <td>{'Ambience': '{'romantic': False, 'intimate': ...</td>\n      <td>Restaurants, Delis, Sandwiches, Fast Food</td>\n      <td>{'Monday': '10:30-21:0', 'Tuesday': '10:30-21:...</td>\n    </tr>\n    <tr>\n      <th>6</th>\n      <td>ZayJ1zWyWgY9S_TRLT_y9Q</td>\n      <td>aq_ZxGHiri48TUXJlpRkCQ</td>\n      <td>Pthe4qk5xh4n-ef-9bvMSg</td>\n      <td>5.0</td>\n      <td>1</td>\n      <td>0</td>\n      <td>0</td>\n      <td>Really good place with simple decor, amazing f...</td>\n      <td>2015-11-05 23:11:05</td>\n      <td>Chon Thai Food</td>\n      <td>2330 N Alma School Rd, Ste 116</td>\n      <td>Chandler</td>\n      <td>AZ</td>\n      <td>85224</td>\n      <td>33.339962</td>\n      <td>-111.859727</td>\n      <td>4.5</td>\n      <td>555.0</td>\n      <td>1.0</td>\n      <td>{'RestaurantsPriceRange2': '2', 'RestaurantsTa...</td>\n      <td>Restaurants, Thai</td>\n      <td>{'Monday': '0:0-0:0', 'Tuesday': '17:0-21:0', ...</td>\n    </tr>\n    <tr>\n      <th>8</th>\n      <td>JA-xnyHytKiOIHl_ztnK9Q</td>\n      <td>P6apihD4ASf1vpPxHODxAQ</td>\n      <td>e_BiI4ej1CW1F0EyVLr-FQ</td>\n      <td>5.0</td>\n      <td>0</td>\n      <td>0</td>\n      <td>0</td>\n      <td>Most delicious authentic Italian I've had in t...</td>\n      <td>2015-02-16 06:48:47</td>\n      <td>Casa Mia</td>\n      <td>11485 N 136th St</td>\n      <td>Scottsdale</td>\n      <td>AZ</td>\n      <td>85259</td>\n      <td>33.590695</td>\n      <td>-111.786547</td>\n      <td>4.5</td>\n      <td>85.0</td>\n      <td>1.0</td>\n      <td>{'RestaurantsGoodForGroups': 'True', 'Restaura...</td>\n      <td>Restaurants, Italian</td>\n      <td>{'Tuesday': '17:0-21:30', 'Wednesday': '17:0-2...</td>\n    </tr>\n  </tbody>\n</table>\n</div>"
     },
     "metadata": {},
     "execution_count": 85
    }
   ],
   "source": [
    "restaurant_reviews_df.head()"
   ]
  },
  {
   "cell_type": "code",
   "execution_count": 86,
   "metadata": {},
   "outputs": [],
   "source": [
    "restaurant_reviews_df.to_pickle('./restaurant_reviews_df')\n",
    "del restaurant_reviews_df"
   ]
  },
  {
   "cell_type": "code",
   "execution_count": 4,
   "metadata": {},
   "outputs": [],
   "source": [
    "restaurant_reviews_df = pd.read_pickle(\"./restaurant_reviews_df\")\n",
    "restaurants_df = pd.read_pickle('./restaurants_df')"
   ]
  },
  {
   "cell_type": "code",
   "execution_count": 5,
   "metadata": {},
   "outputs": [
    {
     "output_type": "execute_result",
     "data": {
      "text/plain": [
       "Empty DataFrame\n",
       "Columns: [business_id, name, address, city, state, postal_code, latitude, longitude, stars, review_count, is_open, attributes, categories, hours]\n",
       "Index: []"
      ],
      "text/html": "<div>\n<style scoped>\n    .dataframe tbody tr th:only-of-type {\n        vertical-align: middle;\n    }\n\n    .dataframe tbody tr th {\n        vertical-align: top;\n    }\n\n    .dataframe thead th {\n        text-align: right;\n    }\n</style>\n<table border=\"1\" class=\"dataframe\">\n  <thead>\n    <tr style=\"text-align: right;\">\n      <th></th>\n      <th>business_id</th>\n      <th>name</th>\n      <th>address</th>\n      <th>city</th>\n      <th>state</th>\n      <th>postal_code</th>\n      <th>latitude</th>\n      <th>longitude</th>\n      <th>stars</th>\n      <th>review_count</th>\n      <th>is_open</th>\n      <th>attributes</th>\n      <th>categories</th>\n      <th>hours</th>\n    </tr>\n  </thead>\n  <tbody>\n  </tbody>\n</table>\n</div>"
     },
     "metadata": {},
     "execution_count": 5
    }
   ],
   "source": [
    "restaurants_df[restaurants_df['review_count']==0]"
   ]
  },
  {
   "cell_type": "code",
   "execution_count": 6,
   "metadata": {},
   "outputs": [
    {
     "output_type": "execute_result",
     "data": {
      "text/plain": [
       "(1244379, 22)"
      ]
     },
     "metadata": {},
     "execution_count": 6
    }
   ],
   "source": [
    "restaurant_reviews_df.shape"
   ]
  },
  {
   "cell_type": "code",
   "execution_count": 24,
   "metadata": {},
   "outputs": [
    {
     "output_type": "execute_result",
     "data": {
      "text/plain": [
       "                review_id                 user_id             business_id  stars_x  useful  funny  cool                                               text                 date                     name                                            address        city state postal_code   latitude   longitude  stars_y  review_count  is_open                                         attributes                                         categories                                              hours\n",
       "2  LG2ZaYiOgpr2DK_90pYjNw  V34qejxNsCbcgD8C0HVk-Q  HQl28KMwrEKHqhFrrDqVNQ      5.0       1      0     0  I love Deagan's. I do. I really do. The atmosp...  2015-12-05 03:18:11   Deagan's Kitchen & Bar                                  14810 Detroit Ave    Lakewood    OH       44107  41.485192  -81.800145      4.0         417.0      1.0  {'BusinessAcceptsCreditCards': 'True', 'Outdoo...  Restaurants, Gastropubs, Nightlife, American (...  {'Tuesday': '11:0-22:0', 'Wednesday': '11:0-22...\n",
       "3  i6g_oA9Yf9Y31qt0wibXpw  ofKDkJKXSKZXu5xJNGiiBQ  5JxlZaqCnk1MnbgRirs40Q      1.0       0      0     0  Dismal, lukewarm, defrosted-tasting \"TexMex\" g...  2011-05-27 05:30:52  Cabo Mexican Restaurant  Red Rock Casino Resort & Spa, 11014 W Charlest...   Las Vegas    NV       89135  36.118343 -115.338821      3.5          56.0      0.0  {'RestaurantsAttire': 'u'casual'', 'Restaurant...                               Restaurants, Mexican  {'Monday': '16:0-21:0', 'Tuesday': '16:0-21:0'...\n",
       "5  L2O_INwlrRuoX05KSjc4eg  5vD2kmE25YBrbayKhykNxQ  nlxHRv1zXGT0c0K51q3jDg      5.0       2      0     0  This is definitely my favorite fast food sub s...  2013-05-07 07:25:25           Firehouse Subs                    510 Marks St, Unit B-1, Ste 110   Henderson    NV       89014  36.059969 -115.036032      3.0          93.0      1.0  {'Ambience': '{'romantic': False, 'intimate': ...          Restaurants, Delis, Sandwiches, Fast Food  {'Monday': '10:30-21:0', 'Tuesday': '10:30-21:...\n",
       "6  ZayJ1zWyWgY9S_TRLT_y9Q  aq_ZxGHiri48TUXJlpRkCQ  Pthe4qk5xh4n-ef-9bvMSg      5.0       1      0     0  Really good place with simple decor, amazing f...  2015-11-05 23:11:05           Chon Thai Food                     2330 N Alma School Rd, Ste 116    Chandler    AZ       85224  33.339962 -111.859727      4.5         555.0      1.0  {'RestaurantsPriceRange2': '2', 'RestaurantsTa...                                  Restaurants, Thai  {'Monday': '0:0-0:0', 'Tuesday': '17:0-21:0', ...\n",
       "8  JA-xnyHytKiOIHl_ztnK9Q  P6apihD4ASf1vpPxHODxAQ  e_BiI4ej1CW1F0EyVLr-FQ      5.0       0      0     0  Most delicious authentic Italian I've had in t...  2015-02-16 06:48:47                 Casa Mia                                   11485 N 136th St  Scottsdale    AZ       85259  33.590695 -111.786547      4.5          85.0      1.0  {'RestaurantsGoodForGroups': 'True', 'Restaura...                               Restaurants, Italian  {'Tuesday': '17:0-21:30', 'Wednesday': '17:0-2..."
      ],
      "text/html": "<div>\n<style scoped>\n    .dataframe tbody tr th:only-of-type {\n        vertical-align: middle;\n    }\n\n    .dataframe tbody tr th {\n        vertical-align: top;\n    }\n\n    .dataframe thead th {\n        text-align: right;\n    }\n</style>\n<table border=\"1\" class=\"dataframe\">\n  <thead>\n    <tr style=\"text-align: right;\">\n      <th></th>\n      <th>review_id</th>\n      <th>user_id</th>\n      <th>business_id</th>\n      <th>stars_x</th>\n      <th>useful</th>\n      <th>funny</th>\n      <th>cool</th>\n      <th>text</th>\n      <th>date</th>\n      <th>name</th>\n      <th>address</th>\n      <th>city</th>\n      <th>state</th>\n      <th>postal_code</th>\n      <th>latitude</th>\n      <th>longitude</th>\n      <th>stars_y</th>\n      <th>review_count</th>\n      <th>is_open</th>\n      <th>attributes</th>\n      <th>categories</th>\n      <th>hours</th>\n    </tr>\n  </thead>\n  <tbody>\n    <tr>\n      <th>2</th>\n      <td>LG2ZaYiOgpr2DK_90pYjNw</td>\n      <td>V34qejxNsCbcgD8C0HVk-Q</td>\n      <td>HQl28KMwrEKHqhFrrDqVNQ</td>\n      <td>5.0</td>\n      <td>1</td>\n      <td>0</td>\n      <td>0</td>\n      <td>I love Deagan's. I do. I really do. The atmosp...</td>\n      <td>2015-12-05 03:18:11</td>\n      <td>Deagan's Kitchen &amp; Bar</td>\n      <td>14810 Detroit Ave</td>\n      <td>Lakewood</td>\n      <td>OH</td>\n      <td>44107</td>\n      <td>41.485192</td>\n      <td>-81.800145</td>\n      <td>4.0</td>\n      <td>417.0</td>\n      <td>1.0</td>\n      <td>{'BusinessAcceptsCreditCards': 'True', 'Outdoo...</td>\n      <td>Restaurants, Gastropubs, Nightlife, American (...</td>\n      <td>{'Tuesday': '11:0-22:0', 'Wednesday': '11:0-22...</td>\n    </tr>\n    <tr>\n      <th>3</th>\n      <td>i6g_oA9Yf9Y31qt0wibXpw</td>\n      <td>ofKDkJKXSKZXu5xJNGiiBQ</td>\n      <td>5JxlZaqCnk1MnbgRirs40Q</td>\n      <td>1.0</td>\n      <td>0</td>\n      <td>0</td>\n      <td>0</td>\n      <td>Dismal, lukewarm, defrosted-tasting \"TexMex\" g...</td>\n      <td>2011-05-27 05:30:52</td>\n      <td>Cabo Mexican Restaurant</td>\n      <td>Red Rock Casino Resort &amp; Spa, 11014 W Charlest...</td>\n      <td>Las Vegas</td>\n      <td>NV</td>\n      <td>89135</td>\n      <td>36.118343</td>\n      <td>-115.338821</td>\n      <td>3.5</td>\n      <td>56.0</td>\n      <td>0.0</td>\n      <td>{'RestaurantsAttire': 'u'casual'', 'Restaurant...</td>\n      <td>Restaurants, Mexican</td>\n      <td>{'Monday': '16:0-21:0', 'Tuesday': '16:0-21:0'...</td>\n    </tr>\n    <tr>\n      <th>5</th>\n      <td>L2O_INwlrRuoX05KSjc4eg</td>\n      <td>5vD2kmE25YBrbayKhykNxQ</td>\n      <td>nlxHRv1zXGT0c0K51q3jDg</td>\n      <td>5.0</td>\n      <td>2</td>\n      <td>0</td>\n      <td>0</td>\n      <td>This is definitely my favorite fast food sub s...</td>\n      <td>2013-05-07 07:25:25</td>\n      <td>Firehouse Subs</td>\n      <td>510 Marks St, Unit B-1, Ste 110</td>\n      <td>Henderson</td>\n      <td>NV</td>\n      <td>89014</td>\n      <td>36.059969</td>\n      <td>-115.036032</td>\n      <td>3.0</td>\n      <td>93.0</td>\n      <td>1.0</td>\n      <td>{'Ambience': '{'romantic': False, 'intimate': ...</td>\n      <td>Restaurants, Delis, Sandwiches, Fast Food</td>\n      <td>{'Monday': '10:30-21:0', 'Tuesday': '10:30-21:...</td>\n    </tr>\n    <tr>\n      <th>6</th>\n      <td>ZayJ1zWyWgY9S_TRLT_y9Q</td>\n      <td>aq_ZxGHiri48TUXJlpRkCQ</td>\n      <td>Pthe4qk5xh4n-ef-9bvMSg</td>\n      <td>5.0</td>\n      <td>1</td>\n      <td>0</td>\n      <td>0</td>\n      <td>Really good place with simple decor, amazing f...</td>\n      <td>2015-11-05 23:11:05</td>\n      <td>Chon Thai Food</td>\n      <td>2330 N Alma School Rd, Ste 116</td>\n      <td>Chandler</td>\n      <td>AZ</td>\n      <td>85224</td>\n      <td>33.339962</td>\n      <td>-111.859727</td>\n      <td>4.5</td>\n      <td>555.0</td>\n      <td>1.0</td>\n      <td>{'RestaurantsPriceRange2': '2', 'RestaurantsTa...</td>\n      <td>Restaurants, Thai</td>\n      <td>{'Monday': '0:0-0:0', 'Tuesday': '17:0-21:0', ...</td>\n    </tr>\n    <tr>\n      <th>8</th>\n      <td>JA-xnyHytKiOIHl_ztnK9Q</td>\n      <td>P6apihD4ASf1vpPxHODxAQ</td>\n      <td>e_BiI4ej1CW1F0EyVLr-FQ</td>\n      <td>5.0</td>\n      <td>0</td>\n      <td>0</td>\n      <td>0</td>\n      <td>Most delicious authentic Italian I've had in t...</td>\n      <td>2015-02-16 06:48:47</td>\n      <td>Casa Mia</td>\n      <td>11485 N 136th St</td>\n      <td>Scottsdale</td>\n      <td>AZ</td>\n      <td>85259</td>\n      <td>33.590695</td>\n      <td>-111.786547</td>\n      <td>4.5</td>\n      <td>85.0</td>\n      <td>1.0</td>\n      <td>{'RestaurantsGoodForGroups': 'True', 'Restaura...</td>\n      <td>Restaurants, Italian</td>\n      <td>{'Tuesday': '17:0-21:30', 'Wednesday': '17:0-2...</td>\n    </tr>\n  </tbody>\n</table>\n</div>"
     },
     "metadata": {},
     "execution_count": 24
    }
   ],
   "source": [
    "restaurant_reviews_df.head()"
   ]
  },
  {
   "cell_type": "code",
   "execution_count": 37,
   "metadata": {},
   "outputs": [
    {
     "output_type": "execute_result",
     "data": {
      "text/plain": [
       "(19456, 14)"
      ]
     },
     "metadata": {},
     "execution_count": 37
    }
   ],
   "source": [
    "restaurants_df.shape"
   ]
  },
  {
   "cell_type": "code",
   "execution_count": 27,
   "metadata": {},
   "outputs": [
    {
     "output_type": "execute_result",
     "data": {
      "text/plain": [
       "'2019-12-13 15:43:16'"
      ]
     },
     "metadata": {},
     "execution_count": 27
    }
   ],
   "source": [
    "restaurant_reviews_df['date'].max()"
   ]
  },
  {
   "cell_type": "code",
   "execution_count": 28,
   "metadata": {},
   "outputs": [],
   "source": [
    "toronto_rest = restaurants_df[restaurants_df['city']=='Toronto']"
   ]
  },
  {
   "cell_type": "code",
   "execution_count": 29,
   "metadata": {},
   "outputs": [
    {
     "output_type": "execute_result",
     "data": {
      "text/plain": [
       "                business_id                          name             address     city state postal_code   latitude  longitude  stars  review_count  is_open                                         attributes                         categories                                              hours\n",
       "38   rVBPQdeayMYht4Uv_FOLHg        Gourmet Burger Company  843 Kipling Avenue  Toronto    ON     M8Z 5G9  43.633291 -79.531768    3.0            13        0  {'RestaurantsPriceRange2': '2', 'RestaurantsAt...         Restaurants, Burgers, Food                                               None\n",
       "277  d9A5lhFHOBvEw-BxSYnWOA     Song Cook's Corean Chilli      681 Bloor St W  Toronto    ON     M6G 1L3  43.663746 -79.416452    4.0             4        0  {'HasTV': 'True', 'WiFi': 'u'no'', 'Restaurant...                Restaurants, Korean                                               None\n",
       "327  37kk0IW6jL7ZlxZF6k2QBg                        Edulis  169 Niagara Street  Toronto    ON         M5V  43.641948 -79.406580    4.0           115        1  {'RestaurantsGoodForGroups': 'False', 'Restaur...       Restaurants, Spanish, French  {'Wednesday': '18:0-23:0', 'Thursday': '18:0-2...\n",
       "332  y1Er-SodAde9QZIcgFf45g  Blackod Steak and Fish House       3479 Yonge St  Toronto    ON     M4N 2N3  43.734367 -79.404422    2.0             8        0  {'GoodForKids': 'True', 'OutdoorSeating': 'Fal...  Restaurants, Steakhouses, Seafood  {'Monday': '0:0-0:0', 'Tuesday': '17:0-21:0', ...\n",
       "354  0rMFhLzeq3Z2OaJ62MQXlw              Spiga Ristorante   1378 Yonge Street  Toronto    ON     M4T 1Y5  43.686247 -79.393561    4.0            14        1  {'BusinessParking': '{'garage': False, 'street...               Restaurants, Italian                                               None"
      ],
      "text/html": "<div>\n<style scoped>\n    .dataframe tbody tr th:only-of-type {\n        vertical-align: middle;\n    }\n\n    .dataframe tbody tr th {\n        vertical-align: top;\n    }\n\n    .dataframe thead th {\n        text-align: right;\n    }\n</style>\n<table border=\"1\" class=\"dataframe\">\n  <thead>\n    <tr style=\"text-align: right;\">\n      <th></th>\n      <th>business_id</th>\n      <th>name</th>\n      <th>address</th>\n      <th>city</th>\n      <th>state</th>\n      <th>postal_code</th>\n      <th>latitude</th>\n      <th>longitude</th>\n      <th>stars</th>\n      <th>review_count</th>\n      <th>is_open</th>\n      <th>attributes</th>\n      <th>categories</th>\n      <th>hours</th>\n    </tr>\n  </thead>\n  <tbody>\n    <tr>\n      <th>38</th>\n      <td>rVBPQdeayMYht4Uv_FOLHg</td>\n      <td>Gourmet Burger Company</td>\n      <td>843 Kipling Avenue</td>\n      <td>Toronto</td>\n      <td>ON</td>\n      <td>M8Z 5G9</td>\n      <td>43.633291</td>\n      <td>-79.531768</td>\n      <td>3.0</td>\n      <td>13</td>\n      <td>0</td>\n      <td>{'RestaurantsPriceRange2': '2', 'RestaurantsAt...</td>\n      <td>Restaurants, Burgers, Food</td>\n      <td>None</td>\n    </tr>\n    <tr>\n      <th>277</th>\n      <td>d9A5lhFHOBvEw-BxSYnWOA</td>\n      <td>Song Cook's Corean Chilli</td>\n      <td>681 Bloor St W</td>\n      <td>Toronto</td>\n      <td>ON</td>\n      <td>M6G 1L3</td>\n      <td>43.663746</td>\n      <td>-79.416452</td>\n      <td>4.0</td>\n      <td>4</td>\n      <td>0</td>\n      <td>{'HasTV': 'True', 'WiFi': 'u'no'', 'Restaurant...</td>\n      <td>Restaurants, Korean</td>\n      <td>None</td>\n    </tr>\n    <tr>\n      <th>327</th>\n      <td>37kk0IW6jL7ZlxZF6k2QBg</td>\n      <td>Edulis</td>\n      <td>169 Niagara Street</td>\n      <td>Toronto</td>\n      <td>ON</td>\n      <td>M5V</td>\n      <td>43.641948</td>\n      <td>-79.406580</td>\n      <td>4.0</td>\n      <td>115</td>\n      <td>1</td>\n      <td>{'RestaurantsGoodForGroups': 'False', 'Restaur...</td>\n      <td>Restaurants, Spanish, French</td>\n      <td>{'Wednesday': '18:0-23:0', 'Thursday': '18:0-2...</td>\n    </tr>\n    <tr>\n      <th>332</th>\n      <td>y1Er-SodAde9QZIcgFf45g</td>\n      <td>Blackod Steak and Fish House</td>\n      <td>3479 Yonge St</td>\n      <td>Toronto</td>\n      <td>ON</td>\n      <td>M4N 2N3</td>\n      <td>43.734367</td>\n      <td>-79.404422</td>\n      <td>2.0</td>\n      <td>8</td>\n      <td>0</td>\n      <td>{'GoodForKids': 'True', 'OutdoorSeating': 'Fal...</td>\n      <td>Restaurants, Steakhouses, Seafood</td>\n      <td>{'Monday': '0:0-0:0', 'Tuesday': '17:0-21:0', ...</td>\n    </tr>\n    <tr>\n      <th>354</th>\n      <td>0rMFhLzeq3Z2OaJ62MQXlw</td>\n      <td>Spiga Ristorante</td>\n      <td>1378 Yonge Street</td>\n      <td>Toronto</td>\n      <td>ON</td>\n      <td>M4T 1Y5</td>\n      <td>43.686247</td>\n      <td>-79.393561</td>\n      <td>4.0</td>\n      <td>14</td>\n      <td>1</td>\n      <td>{'BusinessParking': '{'garage': False, 'street...</td>\n      <td>Restaurants, Italian</td>\n      <td>None</td>\n    </tr>\n  </tbody>\n</table>\n</div>"
     },
     "metadata": {},
     "execution_count": 29
    }
   ],
   "source": [
    "toronto_rest.head()"
   ]
  },
  {
   "cell_type": "code",
   "execution_count": 30,
   "metadata": {},
   "outputs": [
    {
     "output_type": "execute_result",
     "data": {
      "text/plain": [
       "{'RestaurantsPriceRange2': '2',\n",
       " 'RestaurantsAttire': \"u'casual'\",\n",
       " 'Alcohol': \"u'none'\",\n",
       " 'Caters': 'False',\n",
       " 'HasTV': 'False',\n",
       " 'GoodForKids': 'True',\n",
       " 'RestaurantsGoodForGroups': 'True',\n",
       " 'RestaurantsTakeOut': 'True',\n",
       " 'RestaurantsDelivery': 'False',\n",
       " 'RestaurantsReservations': 'False',\n",
       " 'BusinessParking': \"{'garage': False, 'street': False, 'validated': False, 'lot': True, 'valet': False}\",\n",
       " 'NoiseLevel': \"u'average'\",\n",
       " 'WiFi': \"'no'\",\n",
       " 'Ambience': \"{'romantic': False, 'intimate': False, 'classy': False, 'hipster': False, 'divey': False, 'touristy': False, 'trendy': False, 'upscale': False, 'casual': True}\",\n",
       " 'OutdoorSeating': 'False'}"
      ]
     },
     "metadata": {},
     "execution_count": 30
    }
   ],
   "source": [
    "toronto_rest.iloc[0,]['attributes']"
   ]
  },
  {
   "cell_type": "code",
   "execution_count": 9,
   "metadata": {},
   "outputs": [],
   "source": [
    "# Taking data into df\n",
    "\n",
    "checkins = []\n",
    "with open('yelp_dataset/yelp_academic_dataset_checkin.json', 'rb') as f:\n",
    "    for i, line in enumerate(f):\n",
    "        checkins.append(json.loads(line))\n",
    "\n",
    "checkin_df = pd.DataFrame(checkins)\n"
   ]
  },
  {
   "cell_type": "code",
   "execution_count": 33,
   "metadata": {},
   "outputs": [],
   "source": [
    "restaurants_with_checkins_df = restaurants_df.merge(checkin_df,how=\"left\",on=\"business_id\")"
   ]
  },
  {
   "cell_type": "code",
   "execution_count": 38,
   "metadata": {},
   "outputs": [
    {
     "output_type": "execute_result",
     "data": {
      "text/plain": [
       "              business_id                             name                           address       city state postal_code   latitude  longitude  stars  review_count  is_open                                         attributes                              categories                                              hours                                               date\n",
       "0  eBEfgOPG7pvFhb2wcG9I7w                  Philthy Phillys  15480 Bayview Avenue, unit D0110     Aurora    ON     L4G 7J1  44.010962 -79.448677    4.5             4        1  {'RestaurantsTableService': 'False', 'Restaura...  Restaurants, Cheesesteaks, Poutineries  {'Monday': '11:0-22:0', 'Tuesday': '11:0-22:0'...                                2019-01-04 01:13:15\n",
       "1  rVBPQdeayMYht4Uv_FOLHg           Gourmet Burger Company                843 Kipling Avenue    Toronto    ON     M8Z 5G9  43.633291 -79.531768    3.0            13        0  {'RestaurantsPriceRange2': '2', 'RestaurantsAt...              Restaurants, Burgers, Food                                               None  2010-09-29 23:18:27, 2010-10-03 18:26:37, 2010...\n",
       "2  98hyK2QEUeI8v2y0AghfZA  Pho Lee's Vietnamese Restaurant           1541 E 38th St, Ste 101  Cleveland    OH       44114  41.512155 -81.663332    4.5            23        1  {'BusinessParking': 'None', 'Ambience': '{'tou...           Restaurants, Vietnamese, Soup  {'Monday': '11:0-20:0', 'Wednesday': '11:0-20:...  2019-08-18 21:17:31, 2019-08-31 17:06:17, 2019...\n",
       "3  LoRef3ChgZKbxUio-sHgQg                             Amir             5252 Rue Jean Talon O   Montréal    QC     H4P 2A7  45.494870 -73.651904    3.0            18        1  {'RestaurantsAttire': 'u'casual'', 'Restaurant...   Restaurants, Lebanese, Middle Eastern                                               None  2013-05-22 16:28:19, 2014-06-10 22:04:37, 2014...\n",
       "4  tLpkSwdtqqoXwU0JAGnApw                          Wendy's              4602 Northfield Road  Cleveland    OH       44128  41.434614 -81.527026    3.5             7        1  {'RestaurantsDelivery': 'False', 'BusinessAcce...         Restaurants, Fast Food, Burgers  {'Monday': '10:0-3:0', 'Tuesday': '10:0-3:0', ...  2011-08-18 23:18:26, 2011-09-20 16:38:54, 2011..."
      ],
      "text/html": "<div>\n<style scoped>\n    .dataframe tbody tr th:only-of-type {\n        vertical-align: middle;\n    }\n\n    .dataframe tbody tr th {\n        vertical-align: top;\n    }\n\n    .dataframe thead th {\n        text-align: right;\n    }\n</style>\n<table border=\"1\" class=\"dataframe\">\n  <thead>\n    <tr style=\"text-align: right;\">\n      <th></th>\n      <th>business_id</th>\n      <th>name</th>\n      <th>address</th>\n      <th>city</th>\n      <th>state</th>\n      <th>postal_code</th>\n      <th>latitude</th>\n      <th>longitude</th>\n      <th>stars</th>\n      <th>review_count</th>\n      <th>is_open</th>\n      <th>attributes</th>\n      <th>categories</th>\n      <th>hours</th>\n      <th>date</th>\n    </tr>\n  </thead>\n  <tbody>\n    <tr>\n      <th>0</th>\n      <td>eBEfgOPG7pvFhb2wcG9I7w</td>\n      <td>Philthy Phillys</td>\n      <td>15480 Bayview Avenue, unit D0110</td>\n      <td>Aurora</td>\n      <td>ON</td>\n      <td>L4G 7J1</td>\n      <td>44.010962</td>\n      <td>-79.448677</td>\n      <td>4.5</td>\n      <td>4</td>\n      <td>1</td>\n      <td>{'RestaurantsTableService': 'False', 'Restaura...</td>\n      <td>Restaurants, Cheesesteaks, Poutineries</td>\n      <td>{'Monday': '11:0-22:0', 'Tuesday': '11:0-22:0'...</td>\n      <td>2019-01-04 01:13:15</td>\n    </tr>\n    <tr>\n      <th>1</th>\n      <td>rVBPQdeayMYht4Uv_FOLHg</td>\n      <td>Gourmet Burger Company</td>\n      <td>843 Kipling Avenue</td>\n      <td>Toronto</td>\n      <td>ON</td>\n      <td>M8Z 5G9</td>\n      <td>43.633291</td>\n      <td>-79.531768</td>\n      <td>3.0</td>\n      <td>13</td>\n      <td>0</td>\n      <td>{'RestaurantsPriceRange2': '2', 'RestaurantsAt...</td>\n      <td>Restaurants, Burgers, Food</td>\n      <td>None</td>\n      <td>2010-09-29 23:18:27, 2010-10-03 18:26:37, 2010...</td>\n    </tr>\n    <tr>\n      <th>2</th>\n      <td>98hyK2QEUeI8v2y0AghfZA</td>\n      <td>Pho Lee's Vietnamese Restaurant</td>\n      <td>1541 E 38th St, Ste 101</td>\n      <td>Cleveland</td>\n      <td>OH</td>\n      <td>44114</td>\n      <td>41.512155</td>\n      <td>-81.663332</td>\n      <td>4.5</td>\n      <td>23</td>\n      <td>1</td>\n      <td>{'BusinessParking': 'None', 'Ambience': '{'tou...</td>\n      <td>Restaurants, Vietnamese, Soup</td>\n      <td>{'Monday': '11:0-20:0', 'Wednesday': '11:0-20:...</td>\n      <td>2019-08-18 21:17:31, 2019-08-31 17:06:17, 2019...</td>\n    </tr>\n    <tr>\n      <th>3</th>\n      <td>LoRef3ChgZKbxUio-sHgQg</td>\n      <td>Amir</td>\n      <td>5252 Rue Jean Talon O</td>\n      <td>Montréal</td>\n      <td>QC</td>\n      <td>H4P 2A7</td>\n      <td>45.494870</td>\n      <td>-73.651904</td>\n      <td>3.0</td>\n      <td>18</td>\n      <td>1</td>\n      <td>{'RestaurantsAttire': 'u'casual'', 'Restaurant...</td>\n      <td>Restaurants, Lebanese, Middle Eastern</td>\n      <td>None</td>\n      <td>2013-05-22 16:28:19, 2014-06-10 22:04:37, 2014...</td>\n    </tr>\n    <tr>\n      <th>4</th>\n      <td>tLpkSwdtqqoXwU0JAGnApw</td>\n      <td>Wendy's</td>\n      <td>4602 Northfield Road</td>\n      <td>Cleveland</td>\n      <td>OH</td>\n      <td>44128</td>\n      <td>41.434614</td>\n      <td>-81.527026</td>\n      <td>3.5</td>\n      <td>7</td>\n      <td>1</td>\n      <td>{'RestaurantsDelivery': 'False', 'BusinessAcce...</td>\n      <td>Restaurants, Fast Food, Burgers</td>\n      <td>{'Monday': '10:0-3:0', 'Tuesday': '10:0-3:0', ...</td>\n      <td>2011-08-18 23:18:26, 2011-09-20 16:38:54, 2011...</td>\n    </tr>\n  </tbody>\n</table>\n</div>"
     },
     "metadata": {},
     "execution_count": 38
    }
   ],
   "source": [
    "restaurants_with_checkins_df.head()"
   ]
  },
  {
   "cell_type": "code",
   "execution_count": 36,
   "metadata": {},
   "outputs": [
    {
     "output_type": "execute_result",
     "data": {
      "text/plain": [
       "                   business_id                 date\n",
       "115585  eBEfgOPG7pvFhb2wcG9I7w  2019-01-04 01:13:15"
      ],
      "text/html": "<div>\n<style scoped>\n    .dataframe tbody tr th:only-of-type {\n        vertical-align: middle;\n    }\n\n    .dataframe tbody tr th {\n        vertical-align: top;\n    }\n\n    .dataframe thead th {\n        text-align: right;\n    }\n</style>\n<table border=\"1\" class=\"dataframe\">\n  <thead>\n    <tr style=\"text-align: right;\">\n      <th></th>\n      <th>business_id</th>\n      <th>date</th>\n    </tr>\n  </thead>\n  <tbody>\n    <tr>\n      <th>115585</th>\n      <td>eBEfgOPG7pvFhb2wcG9I7w</td>\n      <td>2019-01-04 01:13:15</td>\n    </tr>\n  </tbody>\n</table>\n</div>"
     },
     "metadata": {},
     "execution_count": 36
    }
   ],
   "source": [
    "checkin_df[checkin_df['business_id'] == 'eBEfgOPG7pvFhb2wcG9I7w']"
   ]
  },
  {
   "cell_type": "code",
   "execution_count": 40,
   "metadata": {},
   "outputs": [
    {
     "output_type": "execute_result",
     "data": {
      "text/plain": [
       "                     review_id                 user_id             business_id  stars_x  useful  funny  cool                                               text                 date             name                           address    city state postal_code   latitude  longitude  stars_y  review_count  is_open                                         attributes                              categories                                              hours\n",
       "485100  gwU0Brt7bYIgFJeBhrmmmA  coSXdeklwuZWjjS0n38Tcg  eBEfgOPG7pvFhb2wcG9I7w      5.0       0      0     0  The cheese steak is great here. The guys cooki...  2019-01-26 14:59:53  Philthy Phillys  15480 Bayview Avenue, unit D0110  Aurora    ON     L4G 7J1  44.010962 -79.448677      4.5           4.0      1.0  {'RestaurantsTableService': 'False', 'Restaura...  Restaurants, Cheesesteaks, Poutineries  {'Monday': '11:0-22:0', 'Tuesday': '11:0-22:0'...\n",
       "654298  wt8t7boUicBVutypSIFBfg  pCYmjT_-KrBvFfiazMlaLQ  eBEfgOPG7pvFhb2wcG9I7w      4.0       0      0     0  I've been here 4 times now and the Philly chee...  2019-11-16 17:02:55  Philthy Phillys  15480 Bayview Avenue, unit D0110  Aurora    ON     L4G 7J1  44.010962 -79.448677      4.5           4.0      1.0  {'RestaurantsTableService': 'False', 'Restaura...  Restaurants, Cheesesteaks, Poutineries  {'Monday': '11:0-22:0', 'Tuesday': '11:0-22:0'...\n",
       "719698  tZ5DuKIfUuuhxGYV7ywhvw  8U9jNGWvX1kZR-So3KNPiA  eBEfgOPG7pvFhb2wcG9I7w      5.0       0      0     0  Excellent Excellent customer service!!\\nWill d...  2019-10-11 19:59:57  Philthy Phillys  15480 Bayview Avenue, unit D0110  Aurora    ON     L4G 7J1  44.010962 -79.448677      4.5           4.0      1.0  {'RestaurantsTableService': 'False', 'Restaura...  Restaurants, Cheesesteaks, Poutineries  {'Monday': '11:0-22:0', 'Tuesday': '11:0-22:0'...\n",
       "730800  rqa4ZB6yz-68G5GEXuZJyA  xo8HykGB7Ekm_QKrMRg3Zw  eBEfgOPG7pvFhb2wcG9I7w      4.0       0      0     0  Came here on a Friday night and only 1 table w...  2019-07-26 13:24:49  Philthy Phillys  15480 Bayview Avenue, unit D0110  Aurora    ON     L4G 7J1  44.010962 -79.448677      4.5           4.0      1.0  {'RestaurantsTableService': 'False', 'Restaura...  Restaurants, Cheesesteaks, Poutineries  {'Monday': '11:0-22:0', 'Tuesday': '11:0-22:0'..."
      ],
      "text/html": "<div>\n<style scoped>\n    .dataframe tbody tr th:only-of-type {\n        vertical-align: middle;\n    }\n\n    .dataframe tbody tr th {\n        vertical-align: top;\n    }\n\n    .dataframe thead th {\n        text-align: right;\n    }\n</style>\n<table border=\"1\" class=\"dataframe\">\n  <thead>\n    <tr style=\"text-align: right;\">\n      <th></th>\n      <th>review_id</th>\n      <th>user_id</th>\n      <th>business_id</th>\n      <th>stars_x</th>\n      <th>useful</th>\n      <th>funny</th>\n      <th>cool</th>\n      <th>text</th>\n      <th>date</th>\n      <th>name</th>\n      <th>address</th>\n      <th>city</th>\n      <th>state</th>\n      <th>postal_code</th>\n      <th>latitude</th>\n      <th>longitude</th>\n      <th>stars_y</th>\n      <th>review_count</th>\n      <th>is_open</th>\n      <th>attributes</th>\n      <th>categories</th>\n      <th>hours</th>\n    </tr>\n  </thead>\n  <tbody>\n    <tr>\n      <th>485100</th>\n      <td>gwU0Brt7bYIgFJeBhrmmmA</td>\n      <td>coSXdeklwuZWjjS0n38Tcg</td>\n      <td>eBEfgOPG7pvFhb2wcG9I7w</td>\n      <td>5.0</td>\n      <td>0</td>\n      <td>0</td>\n      <td>0</td>\n      <td>The cheese steak is great here. The guys cooki...</td>\n      <td>2019-01-26 14:59:53</td>\n      <td>Philthy Phillys</td>\n      <td>15480 Bayview Avenue, unit D0110</td>\n      <td>Aurora</td>\n      <td>ON</td>\n      <td>L4G 7J1</td>\n      <td>44.010962</td>\n      <td>-79.448677</td>\n      <td>4.5</td>\n      <td>4.0</td>\n      <td>1.0</td>\n      <td>{'RestaurantsTableService': 'False', 'Restaura...</td>\n      <td>Restaurants, Cheesesteaks, Poutineries</td>\n      <td>{'Monday': '11:0-22:0', 'Tuesday': '11:0-22:0'...</td>\n    </tr>\n    <tr>\n      <th>654298</th>\n      <td>wt8t7boUicBVutypSIFBfg</td>\n      <td>pCYmjT_-KrBvFfiazMlaLQ</td>\n      <td>eBEfgOPG7pvFhb2wcG9I7w</td>\n      <td>4.0</td>\n      <td>0</td>\n      <td>0</td>\n      <td>0</td>\n      <td>I've been here 4 times now and the Philly chee...</td>\n      <td>2019-11-16 17:02:55</td>\n      <td>Philthy Phillys</td>\n      <td>15480 Bayview Avenue, unit D0110</td>\n      <td>Aurora</td>\n      <td>ON</td>\n      <td>L4G 7J1</td>\n      <td>44.010962</td>\n      <td>-79.448677</td>\n      <td>4.5</td>\n      <td>4.0</td>\n      <td>1.0</td>\n      <td>{'RestaurantsTableService': 'False', 'Restaura...</td>\n      <td>Restaurants, Cheesesteaks, Poutineries</td>\n      <td>{'Monday': '11:0-22:0', 'Tuesday': '11:0-22:0'...</td>\n    </tr>\n    <tr>\n      <th>719698</th>\n      <td>tZ5DuKIfUuuhxGYV7ywhvw</td>\n      <td>8U9jNGWvX1kZR-So3KNPiA</td>\n      <td>eBEfgOPG7pvFhb2wcG9I7w</td>\n      <td>5.0</td>\n      <td>0</td>\n      <td>0</td>\n      <td>0</td>\n      <td>Excellent Excellent customer service!!\\nWill d...</td>\n      <td>2019-10-11 19:59:57</td>\n      <td>Philthy Phillys</td>\n      <td>15480 Bayview Avenue, unit D0110</td>\n      <td>Aurora</td>\n      <td>ON</td>\n      <td>L4G 7J1</td>\n      <td>44.010962</td>\n      <td>-79.448677</td>\n      <td>4.5</td>\n      <td>4.0</td>\n      <td>1.0</td>\n      <td>{'RestaurantsTableService': 'False', 'Restaura...</td>\n      <td>Restaurants, Cheesesteaks, Poutineries</td>\n      <td>{'Monday': '11:0-22:0', 'Tuesday': '11:0-22:0'...</td>\n    </tr>\n    <tr>\n      <th>730800</th>\n      <td>rqa4ZB6yz-68G5GEXuZJyA</td>\n      <td>xo8HykGB7Ekm_QKrMRg3Zw</td>\n      <td>eBEfgOPG7pvFhb2wcG9I7w</td>\n      <td>4.0</td>\n      <td>0</td>\n      <td>0</td>\n      <td>0</td>\n      <td>Came here on a Friday night and only 1 table w...</td>\n      <td>2019-07-26 13:24:49</td>\n      <td>Philthy Phillys</td>\n      <td>15480 Bayview Avenue, unit D0110</td>\n      <td>Aurora</td>\n      <td>ON</td>\n      <td>L4G 7J1</td>\n      <td>44.010962</td>\n      <td>-79.448677</td>\n      <td>4.5</td>\n      <td>4.0</td>\n      <td>1.0</td>\n      <td>{'RestaurantsTableService': 'False', 'Restaura...</td>\n      <td>Restaurants, Cheesesteaks, Poutineries</td>\n      <td>{'Monday': '11:0-22:0', 'Tuesday': '11:0-22:0'...</td>\n    </tr>\n  </tbody>\n</table>\n</div>"
     },
     "metadata": {},
     "execution_count": 40
    }
   ],
   "source": [
    "restaurant_reviews_df[restaurant_reviews_df['business_id'] == 'eBEfgOPG7pvFhb2wcG9I7w']"
   ]
  },
  {
   "cell_type": "code",
   "execution_count": null,
   "metadata": {},
   "outputs": [],
   "source": []
  }
 ]
}